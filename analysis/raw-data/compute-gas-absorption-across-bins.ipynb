{
 "cells": [
  {
   "cell_type": "markdown",
   "metadata": {},
   "source": [
    "This notebook computes the integrated stellar flux at the top of the substellar column. This constant is then saved to file to be used in data preprocessing."
   ]
  },
  {
   "cell_type": "code",
   "execution_count": null,
   "metadata": {},
   "outputs": [],
   "source": [
    "import os\n",
    "import h5py\n",
    "import numpy as np"
   ]
  },
  {
   "cell_type": "markdown",
   "metadata": {},
   "source": [
    "## Simulation Constants"
   ]
  },
  {
   "cell_type": "code",
   "execution_count": 21,
   "metadata": {},
   "outputs": [],
   "source": [
    "nbin = 353\n",
    "Radius_star = 695508000.0\n",
    "Dist_planet_star = 104718509490"
   ]
  },
  {
   "cell_type": "markdown",
   "metadata": {},
   "source": [
    "## Load Stellar Flux"
   ]
  },
  {
   "cell_type": "code",
   "execution_count": 56,
   "metadata": {},
   "outputs": [],
   "source": [
    "ifile_star1 = \"../ifile/stars.h5\"\n",
    "\n",
    "file_id = h5py.File(ifile_star1, 'r')\n",
    "\n",
    "sunFlx = file_id['sunFlx'][:]\n",
    "hatp7 = file_id['hatp7'][:]\n",
    "\n",
    "StarF_h = sunFlx\n",
    "\n",
    "file_id.close()"
   ]
  },
  {
   "cell_type": "code",
   "execution_count": 57,
   "metadata": {},
   "outputs": [],
   "source": [
    "for l in range(nbin):\n",
    "    if StarF_h[l] < 0:\n",
    "        StarF_h[l] = 0.0"
   ]
  },
  {
   "cell_type": "markdown",
   "metadata": {},
   "source": [
    "## Load Gas Absorption Variables"
   ]
  },
  {
   "cell_type": "code",
   "execution_count": 58,
   "metadata": {},
   "outputs": [],
   "source": [
    "ifile_ktable = \"../ifile/opacities_venus.h5\"\n",
    "\n",
    "file_id = h5py.File(ifile_ktable, 'r')\n",
    "\n",
    "ktemp_h = file_id['TK'][:] # 1D array with the temperature values used to calculate the cross-sections\n",
    "kpress_h = file_id['PK'][:] # 1D array with the pressure values used to calculate the cross-sections\n",
    "kwave_h = file_id['wavmid'][:]\n",
    "kwave_max_h = file_id['wavmax'][:]\n",
    "kwave_min_h = file_id['wavmin'][:]\n",
    "kopac_h = file_id['gasabs'][:] # 4D cube for the gas cross-sections: 353x20x20x20 = 2824000, where 353 is the number of spectral bins.\n",
    "dg_h = file_id['DELG'][:] # 1D array with the weights for the gaussian integration and has a size of 20.\n",
    "\n",
    "file_id.close()"
   ]
  },
  {
   "cell_type": "code",
   "execution_count": 59,
   "metadata": {},
   "outputs": [
    {
     "name": "stdout",
     "output_type": "stream",
     "text": [
      "Shape of ktemp_h:  (20,)\n",
      "Shape of kpress_h:  (20,)\n",
      "Shape of kwave_h:  (353,)\n",
      "Shape of kwave_max_h:  (353,)\n",
      "Shape of kwave_min_h:  (353,)\n",
      "Shape of kopac_h:  (2824000,)\n",
      "Shape of dg_h:  (20,)\n",
      "Shape of StarF_h:  (353,)\n"
     ]
    }
   ],
   "source": [
    "print(\"Shape of ktemp_h: \", ktemp_h.shape)\n",
    "print(\"Shape of kpress_h: \", kpress_h.shape)\n",
    "print(\"Shape of kwave_h: \", kwave_h.shape)\n",
    "print(\"Shape of kwave_max_h: \", kwave_max_h.shape)\n",
    "print(\"Shape of kwave_min_h: \", kwave_min_h.shape)\n",
    "print(\"Shape of kopac_h: \", kopac_h.shape)\n",
    "print(\"Shape of dg_h: \", dg_h.shape)\n",
    "print(\"Shape of StarF_h: \", StarF_h.shape)"
   ]
  },
  {
   "cell_type": "code",
   "execution_count": 60,
   "metadata": {},
   "outputs": [],
   "source": [
    "kwave_int_h = np.zeros(shape=kwave_h.shape)\n",
    "dkwave_h = np.zeros(shape=kwave_h.shape)\n",
    "\n",
    "for i in range(nbin):\n",
    "    kwave_int_h[i] = kwave_min_h[i]\n",
    "    dkwave_h[i] = kwave_max_h[i] - kwave_min_h[i]"
   ]
  },
  {
   "cell_type": "markdown",
   "metadata": {},
   "source": [
    "## Calculate Flux at the Top of the Model"
   ]
  },
  {
   "cell_type": "code",
   "execution_count": 61,
   "metadata": {},
   "outputs": [],
   "source": [
    "coszi = 1\n",
    "ftop_model = coszi * StarF_h * (Radius_star / Dist_planet_star)**2"
   ]
  },
  {
   "cell_type": "code",
   "execution_count": 62,
   "metadata": {},
   "outputs": [],
   "source": [
    "dg = dg_h * np.dot(dkwave_h, ftop_model)"
   ]
  },
  {
   "cell_type": "code",
   "execution_count": 80,
   "metadata": {},
   "outputs": [
    {
     "name": "stdout",
     "output_type": "stream",
     "text": [
      "2791.486802476382\n"
     ]
    }
   ],
   "source": [
    "flux_scale_factor = np.sum(dg)\n",
    "print(flux_scale_factor)"
   ]
  },
  {
   "cell_type": "markdown",
   "metadata": {},
   "source": [
    "Save value of `beta` to file, such that it can be used in pre-processing."
   ]
  },
  {
   "cell_type": "code",
   "execution_count": 81,
   "metadata": {},
   "outputs": [],
   "source": [
    "# Save value of flux_scale_factor to flux_scale_factor.txt using full precision\n",
    "np.savetxt('/home/ucaptp0/oasis-rt-surrogate/data/constants/flux_scale_factor.txt', [flux_scale_factor],fmt=\"%.12f\")"
   ]
  }
 ],
 "metadata": {
  "kernelspec": {
   "display_name": "Python 3",
   "language": "python",
   "name": "python3"
  },
  "language_info": {
   "codemirror_mode": {
    "name": "ipython",
    "version": 3
   },
   "file_extension": ".py",
   "mimetype": "text/x-python",
   "name": "python",
   "nbconvert_exporter": "python",
   "pygments_lexer": "ipython3",
   "version": "3.10.12"
  }
 },
 "nbformat": 4,
 "nbformat_minor": 2
}
